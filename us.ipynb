{
 "cells": [
  {
   "cell_type": "code",
   "execution_count": null,
   "metadata": {},
   "outputs": [],
   "source": [
    "from policyengine_us import Microsimulation\n",
    "\n",
    "sim = Microsimulation()\n",
    "\n",
    "sim.calculate_dataframe([\"household_id\", \"zip_code\", \"state_code_str\", \"county_str\"]).to_csv(\"survey.csv\")"
   ]
  }
 ],
 "metadata": {
  "language_info": {
   "name": "python"
  }
 },
 "nbformat": 4,
 "nbformat_minor": 2
}
